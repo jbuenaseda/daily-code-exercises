{
 "cells": [
  {
   "cell_type": "markdown",
   "metadata": {},
   "source": [
    "HackerLand University has the following grading policy:\n",
    "\n",
    "    Every student receives a \n",
    "\n",
    "in the inclusive range from to\n",
    ".\n",
    "Any\n",
    "less than\n",
    "\n",
    "    is a failing grade.\n",
    "\n",
    "Sam is a professor at the university and likes to round each student's\n",
    "\n",
    "according to these rules:\n",
    "\n",
    "    If the difference between the \n",
    "\n",
    "and the next multiple of is less than , round up to the next multiple of\n",
    ".\n",
    "If the value of\n",
    "is less than\n",
    "\n",
    "    , no rounding occurs as the result will still be a failing grade.\n",
    "\n",
    "For example,\n",
    "will be rounded to but will not be rounded because the rounding would result in a number that is less than\n",
    "\n",
    ".\n",
    "\n",
    "Given the initial value of\n",
    "for each of Sam's\n",
    "\n",
    "students, write code to automate the rounding process.\n",
    "\n",
    "Function Description\n",
    "\n",
    "Complete the function gradingStudents in the editor below. It should return an integer array consisting of rounded grades.\n",
    "\n",
    "gradingStudents has the following parameter(s):\n",
    "\n",
    "    grades: an array of integers representing grades before rounding\n",
    "\n",
    "\n",
    "https://www.hackerrank.com/challenges/grading/problem?isFullScreen=true"
   ]
  },
  {
   "cell_type": "code",
   "execution_count": 2,
   "metadata": {},
   "outputs": [],
   "source": [
    "import numpy as np"
   ]
  },
  {
   "cell_type": "code",
   "execution_count": 1,
   "metadata": {},
   "outputs": [],
   "source": [
    "def gradingStudents(grades):\n",
    "    # Write your code here\n",
    "    rounded_grades = []\n",
    "\n",
    "    for grade in grades:\n",
    "        if grade >= 38:\n",
    "            if grade % 5 == 3:\n",
    "                grade += 2\n",
    "            elif grade % 5 == 4:\n",
    "                grade += 1\n",
    "        rounded_grades.append(grade)\n",
    "\n",
    "    return rounded_grades"
   ]
  },
  {
   "cell_type": "code",
   "execution_count": 4,
   "metadata": {},
   "outputs": [],
   "source": [
    "grades = np.array([4 ,73 ,67 ,38 ,33])"
   ]
  },
  {
   "cell_type": "code",
   "execution_count": 5,
   "metadata": {},
   "outputs": [
    {
     "data": {
      "text/plain": [
       "[4, 75, 67, 40, 33]"
      ]
     },
     "execution_count": 5,
     "metadata": {},
     "output_type": "execute_result"
    }
   ],
   "source": [
    "gradingStudents(grades)"
   ]
  },
  {
   "cell_type": "code",
   "execution_count": null,
   "metadata": {},
   "outputs": [],
   "source": []
  }
 ],
 "metadata": {
  "kernelspec": {
   "display_name": "Python 3",
   "language": "python",
   "name": "python3"
  },
  "language_info": {
   "codemirror_mode": {
    "name": "ipython",
    "version": 3
   },
   "file_extension": ".py",
   "mimetype": "text/x-python",
   "name": "python",
   "nbconvert_exporter": "python",
   "pygments_lexer": "ipython3",
   "version": "3.8.2"
  }
 },
 "nbformat": 4,
 "nbformat_minor": 4
}
